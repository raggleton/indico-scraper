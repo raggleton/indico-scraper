{
 "cells": [
  {
   "cell_type": "markdown",
   "metadata": {},
   "source": [
    "This notebook is designed for playing around with getting all PDFs from an indico timetable page e.g. from a conference, workshop"
   ]
  },
  {
   "cell_type": "code",
   "execution_count": 91,
   "metadata": {},
   "outputs": [],
   "source": [
    "from time import sleep"
   ]
  },
  {
   "cell_type": "code",
   "execution_count": 68,
   "metadata": {},
   "outputs": [],
   "source": [
    "import os\n",
    "from collections import namedtuple"
   ]
  },
  {
   "cell_type": "code",
   "execution_count": 1,
   "metadata": {},
   "outputs": [],
   "source": [
    "import requests\n",
    "import bs4"
   ]
  },
  {
   "cell_type": "code",
   "execution_count": 2,
   "metadata": {},
   "outputs": [],
   "source": [
    "r = requests.get(\"https://indico.cern.ch/event/662485/timetable/?view=standard\")  # use standard view as includes abstract info"
   ]
  },
  {
   "cell_type": "code",
   "execution_count": 16,
   "metadata": {},
   "outputs": [],
   "source": [
    "soup = bs4.BeautifulSoup(r.text, 'html.parser')"
   ]
  },
  {
   "cell_type": "code",
   "execution_count": 48,
   "metadata": {},
   "outputs": [
    {
     "name": "stdout",
     "output_type": "stream",
     "text": [
      "QCD@LHC 2018  (27-31 August 2018)\n"
     ]
    }
   ],
   "source": [
    "event_title = soup.title.text.replace(\"· Indico\", \"\").strip()\n",
    "print(event_title)"
   ]
  },
  {
   "cell_type": "code",
   "execution_count": 14,
   "metadata": {
    "scrolled": false
   },
   "outputs": [
    {
     "data": {
      "text/plain": [
       "<li class=\"timetable-item timetable-contrib\" id=\"27-determining-the-strong-coup\">\n",
       "<span class=\"timetable-time nested\">\n",
       "<span class=\"start-time\">\n",
       "        09:10\n",
       "    </span>\n",
       "</span>\n",
       "<div class=\"timetable-item-body flexcol\">\n",
       "<div class=\"timetable-item-header flexrow\">\n",
       "<span class=\"timetable-title nested\" data-anchor=\"27-determining-the-strong-coup\">Determining the strong coupling constant (45' + 10')</span>\n",
       "<span class=\"icon-time timetable-duration\">55m</span>\n",
       "<div class=\"timetable-item-actions\">\n",
       "<div class=\"toolbar right thin\">\n",
       "</div>\n",
       "</div>\n",
       "</div>\n",
       "<div class=\"speaker-list\">\n",
       "<span class=\"label\">Speaker</span>:\n",
       "        <span class=\"\">\n",
       "<span>Klaus Rabbertz</span><span class=\"affiliation\">\n",
       "            (<span class=\"text\">KIT - Karlsruhe Institute of  Technology (DE)</span>)</span></span>\n",
       "</div>\n",
       "<div class=\"js-attachment-container\">\n",
       "<div class=\"material-list\">\n",
       "<div class=\"attachments-display-container toolbar\">\n",
       "<div class=\"folder folder-root\">\n",
       "<a class=\"attachment icon-file-pdf i-button\" data-attachment-id=\"2747270\" data-previewable=\"false\" href=\"/event/662485/contributions/3050014/attachments/1705148/2747270/alpha-s-from-ATLASCMS_QCDatLHC_2018_KRabbertz_final.pdf\" target=\"_blank\" title=\"alpha-s-from-ATLASCMS_QCDatLHC_2018_KRabbertz_final.pdf\"><span class=\"title\">alpha-s-from-ATLASCMS_QCDatLHC_2018_KRabbertz_final.pdf</span></a>\n",
       "</div>\n",
       "</div>\n",
       "</div>\n",
       "</div>\n",
       "</div>\n",
       "</li>"
      ]
     },
     "execution_count": 14,
     "metadata": {},
     "output_type": "execute_result"
    }
   ],
   "source": [
    "soup.findAll('li', 'timetable-contrib')[1]"
   ]
  },
  {
   "cell_type": "code",
   "execution_count": 57,
   "metadata": {},
   "outputs": [],
   "source": [
    "TalkEntry = namedtuple(\"TalkEntry\", [\"title\", \"speaker\", \"affiliation\", \"URL\", \"abstract\"])"
   ]
  },
  {
   "cell_type": "code",
   "execution_count": 61,
   "metadata": {},
   "outputs": [],
   "source": [
    "def get_entries(soup):\n",
    "    \"\"\"Get all contributions in the timetable\n",
    "    \n",
    "    \n",
    "    Returns list of TalkEntry objects that contain info about each talk\n",
    "    \"\"\"\n",
    "    entries = []\n",
    "\n",
    "    link_stem = \"https://indico.cern.ch\"\n",
    "    for entry in soup.findAll('li', 'timetable-contrib'):\n",
    "        title_tag = entry.find('span', 'timetable-title')\n",
    "        if not title_tag:\n",
    "            continue\n",
    "        title = title_tag.text\n",
    "    #     print(title)\n",
    "\n",
    "        speaker = \"\"\n",
    "        affiliation = \"\"\n",
    "        speaker_tag = entry.find('div', 'speaker-list')\n",
    "        if speaker_tag:\n",
    "            speaker_tag = speaker_tag.find('span', \"\")\n",
    "            speaker = speaker_tag.find('span', \"\").text  # need the blank classname to avoid getting title\n",
    "            affiliation_tag = speaker_tag.find('span', 'affiliation')\n",
    "            if affiliation_tag:\n",
    "                affiliation = affiliation_tag.find('span', 'text').text\n",
    "        \n",
    "        abstract = \"\"\n",
    "        abstract_tag = entry.find(\"div\", \"contrib-description\")\n",
    "        if abstract_tag:\n",
    "            abstract = abstract_tag.find('p').text\n",
    "            \n",
    "    #     print(speaker)\n",
    "    #     print(affiliation)\n",
    "    #     print(abstract)\n",
    "\n",
    "        link_tag = entry.find('a', 'attachment')\n",
    "        if link_tag:\n",
    "            link = link_stem + link_tag['href']\n",
    "        else:\n",
    "            continue\n",
    "    #     print(link)\n",
    "\n",
    "        if link:\n",
    "            entries.append(TalkEntry(title, speaker, affiliation, link, abstract))\n",
    "\n",
    "    return entries"
   ]
  },
  {
   "cell_type": "code",
   "execution_count": 62,
   "metadata": {
    "scrolled": false
   },
   "outputs": [],
   "source": [
    "entries = get_entries(soup)"
   ]
  },
  {
   "cell_type": "code",
   "execution_count": 67,
   "metadata": {},
   "outputs": [
    {
     "data": {
      "text/plain": [
       "[TalkEntry(title=\"Determining the strong coupling constant (45' + 10')\", speaker='Klaus Rabbertz', affiliation='KIT - Karlsruhe Institute of  Technology (DE)', URL='https://indico.cern.ch/event/662485/contributions/3050014/attachments/1705148/2747270/alpha-s-from-ATLASCMS_QCDatLHC_2018_KRabbertz_final.pdf', abstract=''),\n",
       " TalkEntry(title=\"Recent developments in PDFs (45' + 10')\", speaker='Robert Samuel Thorne', affiliation='University College London (UK)', URL='https://indico.cern.ch/event/662485/contributions/3050020/attachments/1704969/2746951/QCDLHC18.pdf', abstract=''),\n",
       " TalkEntry(title=\"Physics of the top quark and its mass (35' + 10')\", speaker='Andre Hoang', affiliation='University of Vienna', URL='https://indico.cern.ch/event/662485/contributions/3050142/attachments/1705084/2747162/Hoang-Top-Plenary.pdf', abstract=''),\n",
       " TalkEntry(title=\"Top quark measurements in CMS (35' + 10')\", speaker='Till Michael Arndt', affiliation='Deutsches Elektronen-Synchrotron (DE)', URL='https://indico.cern.ch/event/662485/contributions/3050143/attachments/1705033/2747128/QCD2018.pdf', abstract=''),\n",
       " TalkEntry(title='Top quark production cross-section measurements', speaker='Knut Zoch', affiliation='Georg August Universitaet Goettingen (DE)', URL='https://indico.cern.ch/event/662485/contributions/3074070/attachments/1705159/2747294/qcdlhc2018-top-xsec.pdf', abstract='Measurements of the inclusive and differential cross-sections for top-quark pair and single top production cross sections in proton-proton collisions with the ATLAS detector at the Large Hadron Collider are presented at center-of-mass energies of 8 TeV and 13 TeV. The inclusive measurements reach high precision and are compared to the best available theoretical calculations. These measurements, including results using boosted tops, probe our understanding of top-pair production in the TeV regime. Measurements of the properties of the Wtb vertex in single top-quark production allow to set limits on anomalous couplings. All measurements are compared to state-of-the-art theoretical calculations.'),\n",
       " TalkEntry(title='NLO predictions for $t \\\\bar{t}$ + $b \\\\bar{b}$ production in association with a light-jet at the LHC', speaker='Federico Buccioni', affiliation='University of Zurich', URL='https://indico.cern.ch/event/662485/contributions/3074074/attachments/1704965/2747285/buccioni_QCDaLHC18.pdf', abstract='Precise measurements of Higgs boson production in association with top-quark pairs\\nallow for constraints on the top-quark Yukawa coupling, which in turn is crucial to fully\\ncharacterise the scalar sector of the Standard Model and could also open a window on\\nBeyond-the-Standard-Model interactions. At the Large Hadron Collider, searches for\\n$t\\\\bar{t}H$ production in the dominant $H \\\\to b \\\\bar{b}$ channel are plagued by a large QCD background,\\nwhich is dominated by $t \\\\bar{t}$ production in association with a $b \\\\bar{b}$ pair. The detailed understanding of this multi-particle and multi-scale background process is of crucial importance for the sensitivity of $t\\\\bar{t}H(\\\\to b \\\\bar{b})$ analyses. \\nMotivated by the fact that state-of-the-art Monte Carlo simulations for this background suffer from uncertainties related to the modeling of extra light-jet radiation, I present a study for $t \\\\bar{t} b \\\\bar{b}+$jet production at NLO QCD. The focus is on effects and uncertainties in observables\\nrelevant for $t\\\\bar{t}H(b\\\\bar{b})$ analyses.\\nAt the technical level this calculation represents the first application of a new on-the-fly integrand reduction algorithm implemented in OpenLoops2.'),\n",
       " TalkEntry(title='Associated top quark pair production with a Higgs boson: theoretical predictions', speaker='Anna Katarzyna Kulesza', affiliation='Westfaelische Wilhelms-Universitaet Muenster (DE)', URL='https://indico.cern.ch/event/662485/contributions/3086823/attachments/1705262/2747453/ttH_theory18_v3.pdf', abstract='The investigation of the $pp \\\\rightarrow t {\\\\overline t} H$ process is among the highest priorities of the current LHC physics program. Correspondingly, improvements in precision with which theoretical predictions for this process are known are of central importance. In this talk the recent progress concerning theoretical predictions for the signal will be reviewed.'),\n",
       " TalkEntry(title='Herwig 7 Status and Prospects', speaker='Andrzej Konrad Siodmok', affiliation='Polish Academy of Sciences (PL)', URL='https://indico.cern.ch/event/662485/contributions/3087206/attachments/1705128/2747290/Siodmok_Talk_Dresden.pdf', abstract=''),\n",
       " TalkEntry(title='The automation of next-to-leading order electroweak calculations in MadGraph5_aMC@NLO', speaker='Davide Pagani', affiliation='TUM - Garching bei München', URL='https://indico.cern.ch/event/662485/contributions/3067615/attachments/1705136/2747242/QCD_at_LHC.pdf', abstract='We discuss the automation of the calculation of leading- and next-to-leading order contributions to short-distance cross sections at hadron colliders.  With the new public version of the code MadGraph5_aMC@NLO, not only NLO QCD and EW corrections but also all the subleading contributions in a mixed QCD and EW coupling expansion can now be calculated. We discuss the key features for obtaining the complete automation and we show various relevant phenomenological results that can can be obtained with the current version of MadGraph5_aMC@NLO.'),\n",
       " TalkEntry(title=\"SHERPA: where we are and what's next\", speaker='Enrico Bothmann', affiliation='University of Edinburgh', URL='https://indico.cern.ch/event/662485/contributions/3001854/attachments/1705308/2747531/talk.pdf', abstract=\"In this status report on the multi-purpose Monte-Carlo event generator Sherpa\\nI review recent and ongoing Sherpa studies, as well as the latest\\ndevelopments of its fixed-order and all-order technologies. Fixed-order\\nimprovements I discuss include fully automated EW corrections and support\\nfor additional loop-induced processes. On the all-order side I cover\\nSherpa's parton showers and the recent work on including NLO splitting\\nkernels, studying the accuracy of the showers and their on-the-fly reweighting\\nin state-of-the-art simulations.\"),\n",
       " TalkEntry(title='Double parton scattering: status of theory', speaker='Markus Diehl', affiliation='DESY', URL='https://indico.cern.ch/event/662485/contributions/3053934/attachments/1704989/2746988/dresden.pdf', abstract='I review the theory status of double parton scattering, with emhasis on higher-order raditative corrections.'),\n",
       " TalkEntry(title='Recent QCD results from the xFitter project', speaker='Alexander Glazov', affiliation='Deutsches Elektronen-Synchrotron (DE)', URL='https://indico.cern.ch/event/662485/contributions/3072385/attachments/1705110/2747199/xf_qcdatlhc.pdf', abstract=\"We present the xFitter project \\xa0which provides an open-source software framework \\nfor the determination of the proton's \\xa0parton distribution functions and for the interpretation of the physics analyses in the context of \\xa0Quantum Chromodynamics.\\nThe project has been used recently for a number of analyses performed by the LHC collaborations and theory community, which are summarised briefly. The xFitter developer’s team also performed several studies in the last year including estimation of the  impact of heavy quark matching scales and next to leading log high-energy resummation in the PDF fits, which are presented in more details.\"),\n",
       " TalkEntry(title='NNLO QCD predictions for dijet production in diffractive DIS', speaker='Daniel Britzger', affiliation='Max-Planck-Institut für Physik München', URL='https://indico.cern.ch/event/662485/contributions/3072393/attachments/1705302/2747522/180827-QCDLHC-britzger-NNLO-DiffDijets.pdf', abstract='Calculations for dijet production in diffractive deep-inelastic scattering (DIS) at next-to-next-to-leading order accuracy (NNLO) are presented. The calculations are based on the antenna subtraction formalism and the hard coefficients are convoluted with currently available PDFs for diffractive scattering (DPDFs).\\nThe NNLO predictions are compared to a large number of available measurements and different observables. Detailed studies on the DPDF and scale dependencies are presented.'),\n",
       " TalkEntry(title='Analytic calculation of multi-loop Feynman integrals', speaker='Stefano Di Vita', affiliation='Università degli Studi  e INFN Milano (IT)', URL='https://indico.cern.ch/event/662485/contributions/3080209/attachments/1705170/2747310/divita-qcd_at_lhc_2018.pdf', abstract='Multi-loop Feynman integrals represent an essential building block for the precision physics program at high-energy colliders and beyond. In my talk I will review recent developments concerning their evaluation with the method of differential equations, giving particular emphasis to the so-called canonical form and presenting some examples of phenomenological interest.'),\n",
       " TalkEntry(title='Differential Equations for Feynman Integrals', speaker='Ulrich Schubert', affiliation='Argonne National Laboratory', URL='https://indico.cern.ch/event/662485/contributions/3059865/attachments/1705149/2747272/Schubert_QCD.pdf', abstract='The calculation of Feynman Integrals is one of bottlenecks for precision calculations at Next-to-Next-to-leading order and beyond. Differential Equations have proven to be a powerful tool to relieve this bottleneck and have seen a rapid development in the last years. In this talk I will review these recent developments especially focusing on the so-called canonical form. I will present the Magnus algorithm as a tool to find these special forms. The presented techniques are then applied to several analytic calculations including part of the integrals relevant for Higgs+Jet production at three loops and for top pair production at two-loops.'),\n",
       " TalkEntry(title='Systematic approximation of multi-scale Feynman integrals', speaker='Daniel Hulme', affiliation='UZH', URL='https://indico.cern.ch/event/662485/contributions/3059866/attachments/1704946/2746910/QCDLHC_DH.pdf', abstract='Abstract: An algorithm for the systematic analytical approximation of multi-scale Feyn-\\nman integrals will be discussed. The algorithm produces algebraic expressions as functions of\\nthe kinematical parameters and mass scales appearing in the Feynman integrals, allowing\\nfor fast numerical evaluation. The results are valid in all kinematical regions, both above\\nand below thresholds, up to in principle arbitrary orders in the dimensional regulator. The\\nscope of the algorithm will be demonstrated by presenting results for selected two-loop three-\\npoint and four-point integrals with an internal mass scale that appear in the two-loop\\namplitudes for Higgs+jet production.'),\n",
       " TalkEntry(title='Determination of electroweak parameters in polarised deep-inelastic scattering at HERA', speaker='Eram Rizvi', affiliation='Queen Mary, University of London', URL='https://indico.cern.ch/event/662485/contributions/3068089/attachments/1705357/2747628/QCDLHC-H1-2018.pdf', abstract='The parameters of the electroweak theory are determined in a combined electroweak and QCD analysis using all deep-inelastic $e^+p$ and $e^-p$ neutral current and charged current scattering cross sections published by the H1 Collaboration, including data with longitudinally polarised lepton beams. The mass of the $W$ boson in the on-shell scheme is determined as $\\\\mW=80.508\\\\pm 0.115\\\\,\\\\GeV$. The axial-vector and vector couplings of the light quarks to the $Z$ boson are also determined. Both results improve the precision of previous H1 determinations based on HERA-I data by about a factor of two. Possible scale dependence of the weak coupling parameters in both neutral and charged current interactions beyond the Standard Model is also studied. All results are found to be consistent with the Standard Model expectations.'),\n",
       " TalkEntry(title='Mixed QCD-electroweak corrections to Higgs gluon fusion', speaker='Marco Bonetti', affiliation='Karlsruhe Institute of Technology (KIT)', URL='https://indico.cern.ch/event/662485/contributions/3068083/attachments/1704957/2746928/Bonetti_QCDatLHC18.pdf', abstract='The study of the Higgs boson properties is one of the main tasks of contemporary high-energy physics. Among Higgs properties, its interaction with gluons is interesting since it can be facilitated by yet unknown elementary particles. One of the major sources of uncertainty in the theoretical description of $ggH$ coupling originates from mixed QCD-electroweak contributions. The NLO QCD corrections to these contributions were evaluated in the approximation where electroweak boson masses were considered to be significantly larger than the mass of the Higgs boson and it is desirable to compute these corrections for physical masses of the gauge bosons and the Higgs boson. I will present a major step towards this goal and describe first the analytic evaluation of NLO mixed QCD-EW three-loop virtual corrections to $gg \\\\to H$, and then their implementation in the evaluation of the total cross section for $gg \\\\to H$ in the soft-gluon approximation for real corrections.'),\n",
       " TalkEntry(title='Production of Higgs bosons with large transverse momentum', speaker='Kirill Kudashkin', affiliation='Karlsruhe Institute of Technology (KIT)', URL='https://indico.cern.ch/event/662485/contributions/3068084/attachments/1704961/2746940/QCD_LHC2018kudashkin_presentation.pdf', abstract='In this talk I will present our results on the Higgs plus jet production at the large transverse momentum, that is, above the top mass threshold. In particular, it will be shown how corresponding two-loop amplitudes were computed in approximation of nearly massless top quarks.'),\n",
       " TalkEntry(title='Role of the Z polarization in the H > bb measurement.', speaker='Junya Nakamura', affiliation='Universität Tübingen', URL='https://indico.cern.ch/event/662485/contributions/3068085/attachments/1705582/2750539/z_pol-nakamura.pdf', abstract='In this talk I show that the $Z$ boson polarization has relevant information to distinguish the signal $pp \\\\to ZH$, $H \\\\to b\\\\bar{b}$ from the dominant background $Zb\\\\bar{b}$, which is part of the $\\\\mathcal{O}(\\\\alpha_s^2)$ correction to the Drell-Yan $Z$ production, and can help us to finally observe the largest Higgs boson branching ratio.'),\n",
       " TalkEntry(title='Effects of parton shower and underlying event modelling in Higgs measurements and searches', speaker='Mario Jose Sousa', affiliation='Shandong University (CN)', URL='https://indico.cern.ch/event/662485/contributions/3067621/attachments/1705446/2747797/QCDatLHC2018_MarioSousa.pdf', abstract='A number of Higgs measurements and searches for new phenomena in the Higgs sector rely on identification or vetos of particle jets with fairly low transverse momentum in the range of 20-30 GeV. In these cases uncertainties from the modelling of the parton shower and the underlying event can be sizeable. This talk will give an overview of how these uncertainties enter in several analyses.'),\n",
       " TalkEntry(title='MC tunes for Run 2 of the LHC and beyond (HL-LHC)', speaker='Thorsten Kuhl', affiliation='Deutsches Elektronen-Synchrotron (DE)', URL='https://indico.cern.ch/event/662485/contributions/3067620/attachments/1705362/2747647/20180827QCDatLHC2018.pdf', abstract='Abstract will be available shortly. The talk has been suggested by the organizer\\nATLAS + CMS.\\nThe content of this talk is related to the activities of one the CMS groups (Generator, Forward, SM, Top) and ATLAS groups (PMG, SM, TOP, Forward).'),\n",
       " TalkEntry(title='Precise predictions for diboson processes', speaker='Marius Wiesemann', affiliation='CERN', URL='https://indico.cern.ch/event/662485/contributions/3059862/attachments/1704486/2747179/Wiesemann_QCDatLHC_2018.pdf', abstract='I will review recent theory developments for diboson production at the LHC within the puclicly available code MATRIX: With the two lepton plus two neutrino channels, which mix ZZ and WW production, NNLO corrections have been completed to all experimentally relevant leptonic final states for diboson processes. NLO corrections to the loop-induced gg channel are formally of N3LO accuracy, but constitute an important contribution to the (fiducial) diboson rates in certain cases. Finally, the inclusion of NNLO accuracy in fully flexible hadron level events (NNLOPS) was recently achieved for a diboson process, namely WW production, which will be discussed in detail.'),\n",
       " TalkEntry(title='Tests of the Gauge Structure of the Electroweak Sector with ATLAS', speaker='Jonathan Crane', affiliation='University of Manchester (GB)', URL='https://indico.cern.ch/event/662485/contributions/3059853/attachments/1705161/2747299/QCDLHC_2018_JonathanCrane.pdf', abstract='Measurements of the cross sections of the production of two or three electroweak gauge bosons at the LHC constitute stringent tests of the electroweak sector of the Standard Model and provide a model-independent means to search for new physics at the TeV scale. Such studies can be complemented by measurements of vector boson fusion or vector boson scattering processes with one or two gauge boson in association with two jets at high invariant mass, respectively. The ATLAS collaboration has performed detailed measurements of integrated and/or differential cross sections of the such processes at centre-of-mass energies of 8 and 13 TeV. In this talk, we will highlight the most recent results available, also focusing on the QCD modelling aspects of the measurements.'),\n",
       " TalkEntry(title='Prospects for a measurement of the W boson mass in the all-jets final state at hadron colliders', speaker='Andreas Hinzmann', affiliation='Hamburg University (DE)', URL='https://indico.cern.ch/event/662485/contributions/3059850/attachments/1705336/2747676/180827_-_W_mass_all-jets.pptx.pdf', abstract='Precise measurements of the mass of the W boson are important to test the overall consistency of the Standard Model of particle physics. The current best measurements of the W boson mass come from single production measurements at hadron colliders in its decay mode to a lepton (electron or muon) and a neutrino and pair production of W bosons at lepton colliders, where also the decay mode of the W boson to a quark anti-quark pair has been considered. In this study, prospects for a measurement of the W boson mass in the all-jets final state at hadron colliders are presented. Compared to other methods for measuring the W mass, a measurement in the all-jets final state would be complementary in methodology and have systematic uncertainties orthogonal to previous measurements. We have estimated the main experimental and theoretical uncertainties affecting a measurement in the all-jets final state making use of jet substructure techniques.'),\n",
       " TalkEntry(title=\"Joint TH+EXP: QCD background processes in BSM searches (60' + 15')\", speaker='Jonas Lindert', affiliation='University of Durham (GB)', URL='https://indico.cern.ch/event/662485/contributions/3050112/attachments/1705598/2748099/QCDatLHC_Gunnellini_Lindert.pdf', abstract=''),\n",
       " TalkEntry(title=\"Recent results in Higgs and BSM searches at CMS (35' + 10')\", speaker='Dezso Horvath', affiliation='Wigner RCP, Budapest (HU)', URL='https://indico.cern.ch/event/662485/contributions/3050124/attachments/1702192/2746866/higgs-susy-cms_2018aug.pdf', abstract=''),\n",
       " TalkEntry(title=\"QCD measurements with Heavy Ions (35' + 10')\", speaker='Livio Bianchi', affiliation='Universita e INFN Torino (IT)', URL='https://indico.cern.ch/event/662485/contributions/3050125/attachments/1705651/2748182/LivioBianchi_QCDLHC2018_v2.pdf', abstract=''),\n",
       " TalkEntry(title='Measurements of the Higgs boson properties at the ATLAS experiment', speaker='Paul Glaysher', affiliation='DESY', URL='https://indico.cern.ch/event/662485/contributions/3118327/attachments/1705800/2748509/QCDLHC.pdf', abstract='After the discovery of the Higgs boson in summer 2012, the understanding its properties has been a high priority of the ATLAS physics program. Measurements of Higgs boson properties sensitive to its production processes, decay modes, kinematics, mass, and spin/CP properties based on pp collision data recorded at 13 TeV are presented. The analyses in several decay channels will be described and the results of the combination of different decay channels will be shown.'),\n",
       " TalkEntry(title='Theory input for VBS', speaker='Mathieu Pellen', affiliation='University Wuerzburg', URL='https://indico.cern.ch/event/662485/contributions/3069504/attachments/1704422/2748646/PELLEN_Dresden_VBS_2018.pdf', abstract='In this talk, I review recent theoretical developments for VBS processes at the LHC.'),\n",
       " TalkEntry(title='Latest results on VBF and VBS processes at CMS', speaker='Jakob Salfeld-Nebgen', affiliation='Princeton University (US)', URL='https://indico.cern.ch/event/662485/contributions/3069444/attachments/1705908/2748727/QCDatLHCv5_JS.pdf', abstract='This talk describe recent results on the measurement of the Electroweak production of V and VV + jets.'),\n",
       " TalkEntry(title='New Results on Vector Boson Scattering Processes with the ATLAS Detector', speaker='Wenhao Xu', affiliation='University of Michigan (US)', URL='https://indico.cern.ch/event/662485/contributions/3075965/attachments/1705703/2748292/Wenhao_Xu_-_QCDLHC_2018.pdf', abstract='New Results on Vector Boson Scattering Processes with the ATLAS Detector'),\n",
       " TalkEntry(title='Beyond NLL', speaker='Frederic Alexandre Dreyer', affiliation='MIT', URL='https://indico.cern.ch/event/662485/contributions/3082790/attachments/1705941/2748784/talk_qcdlhc18.pdf', abstract=''),\n",
       " TalkEntry(title='Direct space resummation for Higgs and Drell-Yan at N3LL', speaker='Wojciech Bizon', affiliation='University of Oxford (GB)', URL='https://indico.cern.ch/event/662485/contributions/3067619/attachments/1705965/2748824/wbizon-dresden.pdf', abstract='We present a direct space resummation formalism for colour singlet production in hadronic collisions. We focus on N3LL results for Higgs boson production in gluon-gluon fusion as well as results for Drell-Yan production, we show predictions with phenomenological cuts matched to NNLO fixed-order predictions.'),\n",
       " TalkEntry(title='High-energy resummation for the background to weak boson fusion', speaker='Andreas Maier', affiliation='Durham University', URL='https://indico.cern.ch/event/662485/contributions/3067616/attachments/1705801/2748510/QCDatLHC_2018.pdf', abstract='The weak boson fusion contribution to Higgs boson production is enhanced significantly by requiring a large invariant mass and rapidity separation between the associated jets. This induces large logarithmic corrections in the prediction for the gluon-fusion background, which are incorporated to all orders within the High Energy Jets (HEJ) formalism. We present HEJ predictions for the gluon-fusion production of a Higgs boson in association with at least two jets, matched to fixed-order predictions at leading and next-to-leading order and including corrections due to finite top and bottom quark masses.'),\n",
       " TalkEntry(title='Higgs', speaker='Simone Marzani', affiliation='Università di Genova and INFN Genova', URL='https://indico.cern.ch/event/662485/contributions/3082814/attachments/1705023/2749260/marzani_QCD18_higgs.pdf', abstract=''),\n",
       " TalkEntry(title='Determination of the strong coupling constant alphas(MZ) in next-to-next-to-leading order QCD using H1 jet cross section measurements', speaker='Daniel Britzger', affiliation='Ruprecht Karls Universitaet Heidelberg (DE)', URL='https://indico.cern.ch/event/662485/contributions/3050379/attachments/1705996/2748867/180828-britzger-alpha_s.pdf', abstract='The strong coupling constant $\\\\alpha_s$ is determined from inclusive jet and dijet cross sections in neutral-current deep-inelastic ep scattering (DIS) measured at HERA by the H1 collaboration using next-to-next-to-leading order (NNLO) QCD predictions. The dependence of the NNLO predictions and of the resulting value of $\\\\alpha_s(m_Z)$ at the $Z$-boson mass $m_Z$ are studied as a function of the choice of the renormalisation and factorisation scales. Using inclusive jet and dijet data together, the strong coupling constant is determined to be $\\\\alpha_s(m_Z) = 0.1157\\\\,(20)_{exp}\\\\,(29)_{th}$. Complementary, $\\\\alpha_s(m_Z)$ is determined together with parton distribution functions of the proton (PDFs) from jet and inclusive DIS data measured by the H1 experiment. The value $\\\\alpha_s(m_Z) = 0.1142\\\\, (28)_{tot}$ obtained is consistent with the determination from jet data alone. The impact of the jet data on the PDFs is studied. The running of the strong coupling is tested at different values of the renormalisation scale and the results are found to be in agreement with expectations.'),\n",
       " TalkEntry(title='Strong coupling constant extraction from high-multiplicity Z+jets observables', speaker='Daniel Maitre', affiliation='', URL='https://indico.cern.ch/event/662485/contributions/3078191/attachments/1705872/2748652/QCDatLHC_maitre.pdf', abstract='I will present a strong coupling constant extraction at next-to-leading order QCD accuracy using ATLAS Z+2,3,4 jets data. This is the first extraction using processes with a dependency on high powers of the coupling constant. The values of the strong coupling constant at the Z mass obtained are compatible with the world average and with uncertainties commensurate with other next-to-leading order extractions at hadron colliders.'),\n",
       " TalkEntry(title='Determination of $\\\\alpha_s(m_Z)$ from a fit of the Z-boson transverse momentum distribution measured by CDF to NNLO+NNLL predictions', speaker='Stefano Camarda', affiliation='Johannes Gutenberg Universitaet  Mainz (DE)', URL='https://indico.cern.ch/event/662485/contributions/3072390/attachments/1705842/2748882/zptalphas.pdf', abstract='The strong-coupling constant $\\\\alpha_s(m_Z)$ is measured from the transverse momentum distribution of Z bosons measured at $\\\\sqrt{s} = 1.96$ TeV with the CDF experiment, using predictions based on qt resummation at NNLO+NNLL, as implemented in the DYTURBO program. The measurement is performed through a simultaneous fit of $\\\\alpha_s(m_Z)$, PDFs, and the non-perturbative Sudakov form factor.'),\n",
       " TalkEntry(title='Determination of the strong coupling constant from inclusive jet cross section data from multiple experiments', speaker='Daniel Savoiu', affiliation='KIT - Karlsruhe Institute of  Technology (DE)', URL='https://indico.cern.ch/event/662485/contributions/3053935/attachments/1706012/2748895/QCDLHC_talk_alpha_s_2018-08-28_final.pdf', abstract='https://arxiv.org/abs/1712.00480'),\n",
       " TalkEntry(title='Two-loop five-gluon helicity amplitudes in QCD via integrand reduction', speaker='Heribertus Bayu Hartanto', affiliation='Durham University', URL='https://indico.cern.ch/event/662485/contributions/3059857/attachments/1705584/2748085/Bayu_QCDatLHC2018.pdf', abstract='I will present a calculation of the leading-colour five-gluon amplitude at two loop in QCD. The calculation is performed by means of D-dimensional integrand reduction method, complemented with the finite-field reconstruction techniques and momentum twistor parameterization. Numerical results for all helicity configurations are obtained by employing both sector decomposition methods and IBP reduction to master integrals.'),\n",
       " TalkEntry(title='Jet(s) with the CoLoRFulNNLO framework', speaker='Adam Kardos', affiliation='University of Debrecen', URL='https://indico.cern.ch/event/662485/contributions/3059859/attachments/1705853/2748611/kardos.pdf', abstract='We observe more and more advances in the technology of multiloop calculations.\\nHence it is of utmost importance to develope computational frameworks which\\ncan tackle the computational burden presented by the regularization\\nof up to two unresolved parton emissions coming from the matrix elements.\\nCoLoRFulNNLO is such a framework built around local subtractions\\nderived from first principles. In my talk I give a detailed overview of the\\nframework with special emphasis on its application to LHC processes involving\\njet production.'),\n",
       " TalkEntry(title='Differential jet cross sections at the CMS experiment', speaker='Suman Chatterjee', affiliation='Tata Inst. of Fundamental Research (IN)', URL='https://indico.cern.ch/event/662485/contributions/3059849/attachments/1705836/2748584/Jet_Talk_Suman.pdf', abstract='We present measurements of differential jet cross sections over a wide range in transverse momenta from inclusive jets to multi-jet final states. Studies on the impact that these measurements have on the determination of the strong coupling alpha_s as well as on parton density functions are reported.'),\n",
       " TalkEntry(title='Recent HH Results at CMS', speaker='Francesco Brivio', affiliation='Universita & INFN, Milano-Bicocca (IT)', URL='https://indico.cern.ch/event/662485/contributions/3068088/attachments/1705641/2748167/FBrivio_HH_CMS.pdf', abstract='The production of Higgs boson pairs (HH) offers a unique opportunity to explore the structure of the Higgs field potential through the determination of the Higgs boson self interaction. Despite being an extremely rare process, with a predicted cross section of about 33 fb at a center-of-mass energy of 13 TeV, variations of the Higgs couplings, or the presence of heavy resonances, might enhance the production rate and hence reveal the presence of physics beyond the Standard Model. The most recent results on searches for double Higgs production, obtained from the CMS Collaboration with data collected at sqrt(s) = 13 TeV, are here presented, with focus on the different decay channels explored and their combination.'),\n",
       " TalkEntry(title='NLO corrections to Higgs boson pair production in a non-linear EFT', speaker='Ludovic Michel Scyboz', affiliation='Max-Planck-Institut fur Physik (DE)', URL='https://indico.cern.ch/event/662485/contributions/3076919/attachments/1705590/2748091/scyboz_QCDAtLHC.pdf', abstract='-'),\n",
       " TalkEntry(title='Searches for non-SM Higgs bosons and for BSM decays of the Higgs boson at the ATLAS experiment', speaker='Pawel Jan Klimek', affiliation='Northern Illinois University (US)', URL='https://indico.cern.ch/event/662485/contributions/3068087/attachments/1706123/2749086/PawelKlimek_HBSM_ATLAS.pdf', abstract='Several theories beyond the Standard Model predict the existence of additional neutral or charged Higgs particles, as well as decays of the Higgs boson that are either forbidden or strongly suppressed in the SM.Results from selected recent searches for additional Higgs bosons in different production processes and decay modes, and for BSM decays of the 125 GeV-Higgs boson will be presented.'),\n",
       " TalkEntry(title='QCD Issues in Searches for New Physics with the ATLAS Detector', speaker='Matthias Saimpert', affiliation='Deutsches Elektronen-Synchrotron (DE)', URL='https://indico.cern.ch/event/662485/contributions/3075967/attachments/1705775/2748447/qcdatlhc_28082018.pdf', abstract='QCD Issues in Searches for New Physics with the ATLAS Detector'),\n",
       " TalkEntry(title='Top-quark pair production beyond NNLO', speaker='Jan Piclum', affiliation='University of Siegen', URL='https://indico.cern.ch/event/662485/contributions/3074075/attachments/1705575/2748071/piclum.pdf', abstract='The total top-antitop production cross section at hadron colliders is\\none of the key observables of the Standard Model. Comparisons of LHC\\nmeasurements with theoretical calculations are being used to determine\\nthe top-quark mass and the strong coupling and are included in global\\nPDF fits. These applications are currently based on calculations at\\nthe next-to-next-to-leading order (NNLO) in QCD supplemented by\\nsoft-gluon resummation at the next-to-next-to-leading logarithmic\\norder. In this talk I will present recent developments in computing\\nthe cross section beyond NNLO, which is necessary to keep up with the\\never increasing experimental accuracy.'),\n",
       " TalkEntry(title='Top quark properties and mass measurements with the ATLAS detector', speaker='Kevin De Vasconcelos Corga', affiliation='Centre National de la Recherche Scientifique (FR)', URL='https://indico.cern.ch/event/662485/contributions/3074071/attachments/1706233/2749315/document.pdf', abstract='The top quark is unique among the known quarks in that it decays before it has an opportunity to form hadronic bound states. This makes measurements of its properties particularly interesting as one can access directly the properties of a bare quark. The latest measurements of these properties with the ATLAS detector at the LHC are presented using 8 TeV and 13 TeV data. Limits on the rate of flavour changing neutral currents in the production or decay of the top quark are also reported. The production of top-quark pairs in association with W and Z bosons and with photons are also presented. These process are all compared to the best available theoretical calculations. The latest ATLAS measurements of the top quark mass in lepton+jets, dilepton, and all-hadronic final states are also reported. In addition, measurements aiming to measure the mass in a well-defined scheme are presented.'),\n",
       " TalkEntry(title='Hard Photons in Hadroproduction of Top Quarks with Realistic Final States', speaker='Torsten Weber', affiliation='RWTH Aachen University', URL='https://indico.cern.ch/event/662485/contributions/3074072/attachments/1706201/2749242/talk.pdf', abstract='We present a complete description of top quark pair production in association with a hard photon in the dilepton channel. Our calculation is accurate to NLO in QCD. It is based on matrix elements for e+νeμ−ν¯μbb¯γ production and includes all resonant and non-resonant diagrams, interferences, and off-shell effects of the top quarks and the W gauge bosons. This calculation constitutes the first full computation for top quark pair production with a final state photon in hadronic collisions at NLO in QCD. Numerical results for total and differential cross sections are presented for the LHC at a centre-of-mass energy of s√=13 TeV. For some new physics observables we observe shape distortions of more than 100%. In addition, we confirm that the size of the top quark off-shell effects for the total cross section is consistent with the expected uncertainties of the narrow-width-approximation. Triggered by ongoing experimental analyses, we also report on the cross section ratio to the pp→e+νeμ−ν¯μbb¯ process. Not only is the ratio more stable against radiative corrections but it also has reduced scale dependence as compared to the pp→e+νeμ−ν¯μbb¯γ cross section alone. Thus, it represents an interesting observable to probe new physics at the LHC.'),\n",
       " TalkEntry(title='Colour Matrix Element Corrections', speaker='Malin Sjodahl', affiliation='Lund University', URL='https://indico.cern.ch/event/662485/contributions/3082782/attachments/1705142/2749208/QCDatLHCMalinSjodahl1808.pdf', abstract=''),\n",
       " TalkEntry(title='Soft Gluon Evolution and Colour Reconnection', speaker='Patrick Kirchgaesser', affiliation='', URL='https://indico.cern.ch/event/662485/contributions/3067617/attachments/1706074/2749003/QCDatLHC2018_Dresden.pdf', abstract='We consider soft gluon evolution of a system of clusters forming the initial state of the cluster hadronziation model, in order to constrain colour reconnection models from a perturbative point of view.\\nWe show that this ansatz produces clusters with properties attributed to\\na colour pre-confined state and find strong evidence for formerly investigated colour reconnection models based on geometric properties.\\nWe also explore the possibility of colour flows giving rise to\\nbaryonic clusters and propose a simple parametrization to incorporate the\\neffects of soft gluon evolution in a full monte carlo event generator.'),\n",
       " TalkEntry(title='Using Pseudo-Dipoles for Resonance-Aware NLO-Subtraction', speaker='Sebastian Liebschner', affiliation='IKTP Dresden', URL='https://indico.cern.ch/event/662485/contributions/3067614/attachments/1704886/2746775/QCDatLHC.pdf', abstract='NLO-subtraction schemes such as CS-dipole-subtraction are indispensable for MC-Generators to calculate real and virtual corrections efficiently. However, those algorithms suffer from numerical inefficiencies and even cause distortions in physical distributions when interfaced with parton showers, if the process in question comprises potentially resonant particles.\\nIn this talk I will elucidate this matter and offer an alternative subtraction-scheme, which makes use of so called pseudo-dipoles. I will show results, which have been calculated with a SHERPA-implementation of this new pseudo-dipole-subtraction and compare them to the ones obtained with ordinary CS-dipole-subtraction.'),\n",
       " TalkEntry(title='Next-to-leading power correction in particle scattering near threshold', speaker='Leonardo Vernazza', affiliation='Nikhef and University of Amsterdam', URL='https://indico.cern.ch/event/662485/contributions/3102492/attachments/1705986/2749246/QCDLHC-2018.pdf', abstract='I will discuss recent developments in the calculation of next-to-leading power corrections in Drell Yan and other electroweak annihilation processes.'),\n",
       " TalkEntry(title='N3LO QCD DIS Single-jet production and NNLO QCD e^+e^- event orientation with NNLOJET', speaker='Jan Niehues', affiliation='', URL='https://indico.cern.ch/event/662485/contributions/3059856/attachments/1705976/2748837/DresdenNiehues.pdf', abstract='In this talk, recent results on the calculation of fully differential single-jet production in neutral current deep inelastic scattering at next-to-next-to-next-to leading order (N3LO) in the strong coupling are presented. The results are obtained by the combination of antenna subtraction at next-to-next-to leading order (NNLO) with the method of projection to born. Details of the combination of the two approaches will be discussed. Phenomenological results on NNLO QCD predictions for event-orientations in e^+e^- - annihilation will be also shown.'),\n",
       " TalkEntry(title='Groomed jet substructure observables for inclusive jet production', speaker='Felix Ringer', affiliation='Lawrence Berkeley National Laboratory', URL='https://indico.cern.ch/event/662485/contributions/3059861/attachments/1705759/2748410/QCDLHC_FRinger.pdf', abstract='The phenomenology of highly energetic jets and their substructure plays an important role for the physics program at the LHC. In recent years various grooming techniques have been proposed that need to be included consistently in perturbative calculations. Within Soft Collinear Effective Theory (SCET) we establish factorization theorems for jet substructure observables measured on an inclusive jet sample. The developed effective field theory framework allows the resummation of large logarithmic corrections to next-to-leading logarithmic (NLL) accuracy and a consistent treatment of non-perturbative effects. For example, we consider the jet mass distribution with and without grooming. We present numerical results and compare to the available data from the LHC.'),\n",
       " TalkEntry(title='Jet energy scale and jet substructure performance in CMS', speaker='Robin Cameron Aggleton', affiliation='Hamburg University (DE)', URL='https://indico.cern.ch/event/662485/contributions/3059860/attachments/1706154/2749146/jec_qcdlhc_dresden_18_16to9.pdf', abstract='Jets are the experimental signature of energetic quarks and gluons produced in high energy processes. A detailed understanding of both the energy scale and the transverse momentum resolution of jets is of crucial importance for the analysis of perturbative QCD processes. In addition, the substructure, shape and mass of jets is an important tool to separate and study quark and gluon initiated jets as well as jets initiated by highly boosted W, Z, Higgs bosons and top quarks decaying to quarks. In this talk, we present the measurements of CMS jet energy scale and resolution, as well as the performance of jet substructure tagging algorithms using the data sample collected in proton-proton collisions at a center-of-mass energy of 13 TeV.'),\n",
       " TalkEntry(title=\"Uncertainties and challenges in jet reconstruction in ATLAS (35' + 10')\", speaker='Aparajita Dattagupta', affiliation='University of Oregon (US)', URL='https://indico.cern.ch/event/662485/contributions/3050122/attachments/1706458/2749743/Uncertainties_Challenges_JetReco_QCDatLHC_29thAug18.pdf', abstract=''),\n",
       " TalkEntry(title=\"Joint TH+EXP: Inclusive and dijet production at the LHC (60' + 15')\", speaker='Bogdan Malaescu', affiliation='Centre National de la Recherche Scientifique (FR) & CERN', URL='https://indico.cern.ch/event/662485/contributions/3050123/attachments/1706434/2749746/pires.pdf', abstract=''),\n",
       " TalkEntry(title=\"Progress in multiloop and multileg calculations (35' + 10')\", speaker='Stephen Jones', affiliation='MPI, Munich', URL='https://indico.cern.ch/event/662485/contributions/3050021/attachments/1706540/2749907/sjones_qcdatlhc2018.pdf', abstract=''),\n",
       " TalkEntry(title=\"EW corrections in the light of QCD precision (35' + 10')\", speaker='Marek Schoenherr', affiliation='CERN', URL='https://indico.cern.ch/event/662485/contributions/3050022/attachments/1706623/2750040/QCDatLHC_MarekSchoenherr.pdf', abstract=''),\n",
       " TalkEntry(title=\"Joint TH+EXP: Jet substructure and H/V/top-tagging (60' + 15')\", speaker='Danilo Enoque Ferreira De Lima', affiliation='Ruprecht Karls Universitaet Heidelberg (DE)', URL='https://indico.cern.ch/event/662485/contributions/3050130/attachments/1706593/2749999/qcdatlhc-2018.pdf', abstract=''),\n",
       " TalkEntry(title=\"Heavy flavour production processes (35' + 10')\", speaker='Stefano Forte', affiliation='Università degli Studi  e INFN Milano (IT)', URL='https://indico.cern.ch/event/662485/contributions/3050118/attachments/1707189/2751421/dresden18.pdf', abstract=''),\n",
       " TalkEntry(title=\"Heavy flavour production and decay with LHCb (35' + 10')\", speaker='Nicola Anne Skidmore', affiliation='Ruprecht Karls Universitaet Heidelberg (DE)', URL='https://indico.cern.ch/event/662485/contributions/3050119/attachments/1706423/2749693/QCDatLHCb.pdf', abstract=''),\n",
       " TalkEntry(title='Flavour Anomalies in Rare Decays at LHCb', speaker='Christoph Michael Langenbruch', affiliation='Rheinisch Westfaelische Tech. Hoch. (DE)', URL='https://indico.cern.ch/event/662485/contributions/3074077/attachments/1707155/2751038/langenbruch.pdf', abstract='Rare decays are powerful probes for Physics beyond the Standard Model\\n(SM), as new particles can have a large impact on physics observables.\\nRecent results on lepton universality tests and measurements of\\nbranching fractions and angular distributions of rare b->sll decays have\\nshown tensions with the SM predictions. The LHCb experiment is ideally\\nsuited for the study of the these flavour anomalies, due to its large\\nacceptance, precise vertexing and powerful particle identification\\ncapabilities. The latest results from LHCb on the flavour anomalies will\\nbe presented and their interpretation will be discussed.'),\n",
       " TalkEntry(title='Long-distance effects in B->K(*) l+ l-', speaker='Danny van Dyk', affiliation='TU München', URL='https://indico.cern.ch/event/662485/contributions/3074080/attachments/1707388/2751448/talk.pdf', abstract='I will discuss recent developments regarding long-distance effects in B->K()l+ l- decays.\\nPrecise knowledge of these effects is needed for the interpretation of the present anomaly seen in the experimental results. The approach I discuss relies on the analytic properties of the hadronic matrix elements. It combines the available theory information beyond the physical phase space with experimental data of hadronic decays B->K() psi. The results are predictions for the rare decay within the Standard Model and beyond.'),\n",
       " TalkEntry(title='CP Violation in pure hadronic three-body B meson decays', speaker='Keri Vos', affiliation='Siegen University', URL='https://indico.cern.ch/event/662485/contributions/3074078/attachments/1707462/2751611/ThreebodyQCDLHC.pdf', abstract='The search for CP violation is a large part of the flavour programs at LHCb and the B factories, with pure hadronic decays as the key players. Three-body decays, which form a large part of the B meson branching fraction, contain much more information than two-body decays, because of their non-trivial kinematic structure. Recently, these decays were described using a QCD factorization framework similar to two-body decays, but with new non-perturbative inputs. I discuss a first study of CP violation in three-body B decays using this new framework.'),\n",
       " TalkEntry(title='Parton Shower Cutoff and the Heavy Quark Mass Parameter', speaker='Andre Hoang', affiliation='University of Vienna', URL='https://indico.cern.ch/event/662485/contributions/3082778/attachments/1706689/2750163/Hoang-Topmass-Parallel.pdf', abstract=''),\n",
       " TalkEntry(title='Matching and merging with massive $b$-quarks', speaker='Johannes Krause', affiliation='TU Dresden', URL='https://indico.cern.ch/event/662485/contributions/3067618/attachments/1706345/2749534/QCD_LHC_johannes_krause.pdf', abstract='We present a new algorithm to incorporate calculations with massive $b$-quarks, usually performed in the four flavour scheme, into a merged simulation obtained in the five flavour scheme. We apply this algorithm to $tt+\\\\mathrm{jets}$ / $ttbb$ production, study the uncertainties of this newly developed method and compare our results to dedicated 4F/5F simulations.'),\n",
       " TalkEntry(title='Combination and QCD analysis of beauty and charm production cross section measurements in deep inelastic ep scattering at HERA', speaker='', affiliation='', URL='https://indico.cern.ch/event/662485/contributions/3074066/attachments/1707467/2751625/qcdATlhc2018.pdf', abstract='Measurements of open charm and beauty production cross sections in deep inelastic $ep$ scattering at HERA from the H1 and ZEUS Collaborations are combined. Reduced cross sections are obtained in the kinematic range of negative four-momentum transfer squared of the photon $2.5$~GeV$^2\\\\le Q^2 \\\\le 2000$ GeV$^2$ and Bjorken scaling variable $3 \\\\cdot 10^{-5} \\\\le x_{\\\\rm Bj} \\\\le 5 \\\\cdot 10^{-2}$. The combination method accounts for the correlations of the statistical and systematic uncertainties among the different datasets. Perturbative QCD calculations are compared to the combined data. A next-to-leading order QCD analysis is performed using these data together with the combined inclusive deep inelastic scattering cross sections from HERA. The running charm- and beauty-quark masses are determined as $m_c(m_c) = 1.290^{+0.046}_{-0.041} {\\\\rm (exp/fit)}$ ${}^{+0.062}_{-0.014}  {\\\\rm (model)}$ ${}^{+0.003}_{-0.031} {\\\\rm (parameterisation)}$ GeV and $m_b(m_b) = 4.049^{+0.104}_{-0.109} {\\\\rm (exp/fit)}$ ${}^{+0.090}_{-0.032} {\\\\rm (model)}$ ${}^{+0.001}_{-0.031} {\\\\rm (parameterisation)}$ GeV.'),\n",
       " TalkEntry(title='Three loop QCD corrections to heavy quark form factors', speaker='Narayan Rana', affiliation='DESY', URL='https://indico.cern.ch/event/662485/contributions/3074067/attachments/1707384/2751438/RanaQCDLHC18.pdf', abstract='We present color planar and complete light quark QCD contributions to the three loop heavy quark form factors in the case of vector, axialvector, scalar and pseudoscalar currents. We evaluate the master integrals applying a new method based on differential equations for general bases, which is applicable for all first order factorizing systems. The analytic results are expressed in terms of harmonic polylogarithms and real-valued cyclotomic harmonic polylogarithms.'),\n",
       " TalkEntry(title='Automated calculation of two-loop soft functions in SCET', speaker='Rudi Rahn', affiliation='University of Bern', URL='https://indico.cern.ch/event/662485/contributions/3067612/attachments/1707377/2751630/Rahn_QCDatLHC.pdf', abstract='Perturbative calculations for many collider observables suffer from large logarithmic corrections associated with soft emissions or radiation collinear to beam or jet directions. Resummation using SCET techniques is based on factorisation theorems, and requires the calculation of jet, soft and beam functions to some perturbative accuracy. This task has up to now mainly been achieved analytically, on a case-by-case basis.'),\n",
       " TalkEntry(title='Moments of PDFs from Lattice QCD', speaker='Gunnar Bali', affiliation='Universität Regensburg', URL='https://indico.cern.ch/event/662485/contributions/3072388/attachments/1706317/2751353/balitalk.pdf', abstract='Mellin moments of PDFs are calculable as expectation values of local operators within external states, using Lattice QCD. With sufficiently small statistical and systematic uncertainties, these provide information that will be complementary to parametrizations obtained from global fits to experimental data. I will present such lattice results.'),\n",
       " TalkEntry(title='A determination of the strong coupling constant from a global QCD analysis', speaker='Zahari Dimitrov Kassabov Zaharieva', affiliation='University of Cambridge (GB)', URL='https://indico.cern.ch/event/662485/contributions/3053929/attachments/1707358/2751394/talk.pdf', abstract='I present the recent determination of αs performed by the NNPDF collaboration. I particularly discuss the novel methodology adopted in the fit, as well as the breakdown of the uncertainties.'),\n",
       " TalkEntry(title='Precision determination of the Wtb coupling in single top production', speaker='Tobias Neumann', affiliation='Illinois Tech / Fermi National Accelerator Laboratory', URL='https://indico.cern.ch/event/662485/contributions/3059864/attachments/1707455/2751587/qcdlhc.pdf', abstract='We present our calculation of next-to-leading order QCD effects in single top production for a precision determination of the Wtb coupling. The calculation is performed analytically with an off-shell top quark and includes relevant operators from the Standard Model Effective Field Theory (SMEFT) that modify the Wtb coupling also at next-to-leading order in QCD. We discuss the phenomenological importance and put our calculation into the context of current studies.')]"
      ]
     },
     "execution_count": 67,
     "metadata": {},
     "output_type": "execute_result"
    }
   ],
   "source": [
    "entries"
   ]
  },
  {
   "cell_type": "code",
   "execution_count": 65,
   "metadata": {},
   "outputs": [
    {
     "name": "stdout",
     "output_type": "stream",
     "text": [
      "75 contributions\n"
     ]
    }
   ],
   "source": [
    "print(len(entries), 'contributions')"
   ]
  },
  {
   "cell_type": "code",
   "execution_count": 69,
   "metadata": {},
   "outputs": [],
   "source": [
    "os.mkdir(event_title)"
   ]
  },
  {
   "cell_type": "code",
   "execution_count": 89,
   "metadata": {},
   "outputs": [],
   "source": [
    "def default_filename(entry):\n",
    "    template = \"{title}-{speaker}.pdf\"\n",
    "    return template.format(**entry._asdict())"
   ]
  },
  {
   "cell_type": "code",
   "execution_count": 90,
   "metadata": {},
   "outputs": [
    {
     "data": {
      "text/plain": [
       "\"Determining the strong coupling constant (45' + 10')-Klaus Rabbertz.pdf\""
      ]
     },
     "execution_count": 90,
     "metadata": {},
     "output_type": "execute_result"
    }
   ],
   "source": [
    "default_filename(entries[0])"
   ]
  },
  {
   "cell_type": "code",
   "execution_count": 105,
   "metadata": {},
   "outputs": [],
   "source": [
    "def download_file(url, output_filename):\n",
    "    print(\"Downloading\", url, \"to\", output_filename)\n",
    "    r = requests.get(url)\n",
    "    print(r.status_code)\n",
    "    if r.status_code != 200:\n",
    "        print(\"Cannot download\", url, \"status code:\", r.status_code)\n",
    "    else:\n",
    "        with open(output_filename, 'wb') as f:\n",
    "            f.write(r.content)"
   ]
  },
  {
   "cell_type": "code",
   "execution_count": 108,
   "metadata": {},
   "outputs": [],
   "source": [
    "def download_talks(entries, download_dir, filename_generator, pause=5):\n",
    "    pause = float(pause)\n",
    "    if pause <= 1:\n",
    "        print(\"You should be nice to the server, setting pause to 1 second\")\n",
    "    \n",
    "    if not os.path.isdir(download_dir):\n",
    "        os.makedirs(download_dir)\n",
    "\n",
    "    for entry in entries:\n",
    "        output_filename = os.path.join(download_dir, filename_generator(entry))\n",
    "        # replace extensions with the one from URL\n",
    "        output_filename = os.path.splitext(output_filename)[0] + os.path.splitext(entry.URL)[1] \n",
    "        if not os.path.isfile(output_filename):\n",
    "            download_file(entry.URL, output_filename)\n",
    "            sleep(pause)  # be nice"
   ]
  },
  {
   "cell_type": "code",
   "execution_count": 109,
   "metadata": {},
   "outputs": [],
   "source": [
    "download_talks(entries[:5], event_title, default_filename)"
   ]
  },
  {
   "cell_type": "code",
   "execution_count": null,
   "metadata": {},
   "outputs": [],
   "source": []
  }
 ],
 "metadata": {
  "kernelspec": {
   "display_name": "Python 3",
   "language": "python",
   "name": "python3"
  },
  "language_info": {
   "codemirror_mode": {
    "name": "ipython",
    "version": 3
   },
   "file_extension": ".py",
   "mimetype": "text/x-python",
   "name": "python",
   "nbconvert_exporter": "python",
   "pygments_lexer": "ipython3",
   "version": "3.7.0"
  }
 },
 "nbformat": 4,
 "nbformat_minor": 2
}
